{
 "cells": [
  {
   "cell_type": "markdown",
   "metadata": {},
   "source": [
    "# Create Views for the best Location\n",
    "\n",
    "This section attempts to visulise a suitable place might be to open a restaurant.<br>The existing crimes, restaurants and hot spot records are be use."
   ]
  },
  {
   "cell_type": "code",
   "execution_count": null,
   "metadata": {
    "colab": {
     "base_uri": "https://localhost:8080/",
     "height": 901
    },
    "colab_type": "code",
    "id": "_PnjG0xiB1i7",
    "outputId": "a41e0563-f4dc-44c1-c3f5-e58147f9796b"
   },
   "outputs": [],
   "source": [
    "import numpy as np # library to handle data in a vectorized manner\n",
    "import pandas as pd # library for data analsysis\n",
    "pd.set_option('display.max_columns', None)\n",
    "pd.set_option('display.max_rows', None)\n",
    "\n",
    "!pip install geopy  # uncomment this line if you haven't completed the Foursquare API lab\n",
    "from geopy.geocoders import Nominatim # convert an address into latitude and longitude values\n",
    "\n",
    "\n",
    "# Matplotlib and associated plotting modules\n",
    "import matplotlib as mpl\n",
    "import matplotlib.cm as cm\n",
    "import matplotlib.colors as colors\n",
    "import matplotlib.pyplot as plt\n",
    "from matplotlib.ticker import NullFormatter\n",
    "import matplotlib.ticker as ticker\n",
    "%matplotlib inline\n",
    "\n",
    "# notice: installing seaborn might takes a few minutes\n",
    "!pip install seaborn\n",
    "import seaborn as sns\n",
    "sns.set_style(\"darkgrid\")\n",
    "\n",
    "!pip install folium==0.8.3  # uncomment this line if you haven't completed the Foursquare API lab\n",
    "import folium # map rendering library\n",
    "from folium import plugins\n",
    "from folium.plugins import MarkerCluster\n",
    "from folium.plugins import FastMarkerCluster\n",
    "\n",
    "from PIL import Image # converting images into arrays\n",
    "\n",
    "# install wordcloud\n",
    "!pip install wordcloud==1.4.1\n",
    "\n",
    "# import package and its set of stopwords\n",
    "from wordcloud import WordCloud, STOPWORDS\n",
    "\n",
    "print('Libraries imported.')"
   ]
  },
  {
   "cell_type": "markdown",
   "metadata": {},
   "source": [
    "# Read CSV File Toronto Top 10 Type Dinas"
   ]
  },
  {
   "cell_type": "code",
   "execution_count": null,
   "metadata": {},
   "outputs": [],
   "source": [
    "slDinaToronto = pd.read_csv('./data/Toronto_dinasafe_Top10.csv')"
   ]
  },
  {
   "cell_type": "code",
   "execution_count": null,
   "metadata": {},
   "outputs": [],
   "source": [
    "slDinaToronto.shape"
   ]
  },
  {
   "cell_type": "code",
   "execution_count": null,
   "metadata": {
    "colab": {
     "base_uri": "https://localhost:8080/",
     "height": 1000
    },
    "colab_type": "code",
    "id": "6v5d-RLXhqf1",
    "outputId": "c787b9cd-3b28-4ae7-8df4-5f7634206f75"
   },
   "outputs": [],
   "source": [
    "slDinaToronto['TYPE'].value_counts().to_frame().head()"
   ]
  },
  {
   "cell_type": "markdown",
   "metadata": {
    "colab_type": "text",
    "id": "_PrLDCbuBRFt"
   },
   "source": [
    "## Establishment type ie restaurant, mobile cart\n",
    "https://open.toronto.ca/dataset/dinesafe/"
   ]
  },
  {
   "cell_type": "code",
   "execution_count": null,
   "metadata": {
    "colab": {
     "base_uri": "https://localhost:8080/",
     "height": 833
    },
    "colab_type": "code",
    "id": "zx0Pi5UpA88F",
    "outputId": "4b7cc7b3-56bd-4922-f377-ff0cb27935a2"
   },
   "outputs": [],
   "source": [
    "fig,ax = plt.subplots(1, 1, figsize=(30, 10))\n",
    "sns.countplot(x='TYPE', data = slDinaToronto, order = slDinaToronto['TYPE'].value_counts().index)\n",
    "ax.set_title(\"Establishment type\")\n",
    "for t in ax.patches:\n",
    "    if (np.isnan(float(t.get_height()))):\n",
    "        ax.annotate('', (t.get_x(), 0))\n",
    "    else:\n",
    "        ax.annotate((format(int(t.get_height()), ',d')), (t.get_x(), t.get_height()*1.01))\n",
    "\n",
    "plt.xticks(rotation='vertical')    \n",
    "plt.show();"
   ]
  },
  {
   "cell_type": "markdown",
   "metadata": {},
   "source": [
    "# Toronto Cultural Hot Spot\n",
    "https://open.toronto.ca/dataset/cultural-spaces/\n",
    "\n",
    "##### Performance\n",
    "Spaces in which performing arts (dance, music, theatre, etc.) creation or presentation takes place.  Includes but is not limited to:<br>\n",
    "·         Dance studios\n",
    "·         Recording studios\n",
    "·         Rehearsal spaces\n",
    "·         Theatres\n",
    "·         Music halls / live music spaces \n",
    "·         Public squares\n",
    "·         Restaurants and bars with stages / performance spaces\n",
    "·         Churches\n",
    "·         Band shells / amphitheatres / outdoor spaces that can accommodate performances (eg. Shakespeare in the Park, Manifesto Dance)\n",
    "·         Multipurpose spaces with specific accommodations for performances (eg. lighting, audience seating, etc.)\n",
    "\n",
    "##### Exhibition / Visual Arts\n",
    "Spaces in which visual arts creation or presentation can take place, in addition to pure exhibition space.  Includes but is not limited to:<br>\n",
    "·         Art galleries\n",
    "·         Museums\n",
    "·         Visual artist studios\n",
    "·         Photography studios\n",
    "·         Exhibition space in coffee shops\n",
    "\n",
    "##### Screen Based\n",
    "Spaces for the production and presentation of multimedia screen-based arts including digital, photography, and film.  Includes but is not limited to:<br>\n",
    "·         Film studios\n",
    "·         Movie theatres\n",
    "·         Digital media labs (eg. ProTech Media Centre)\n",
    "·         Production/post production facilities\n",
    "\n",
    "##### Library\n",
    "·         Toronto Public Library facility with physical space for cultural activity.<br>\n",
    "\n",
    "##### Multipurpose\n",
    "Spaces that are not purpose-built and can house a range of cultural activity across disciplines. Includes but is not limited to:<br>\n",
    "·         Parks\n",
    "·         Community Centres\n",
    "·         Recreation Centres\n",
    "·         Public squares\n",
    "·         Churches\n",
    "·         Schools\n",
    "\n",
    "##### Heritage\n",
    "·         Museums\n",
    "·         Facilities where heritage activity takes place (historical societies, archives, community museums etc.)"
   ]
  },
  {
   "cell_type": "markdown",
   "metadata": {},
   "source": [
    "## Load CSV File Toronto Culture Hot Spot"
   ]
  },
  {
   "cell_type": "code",
   "execution_count": null,
   "metadata": {},
   "outputs": [],
   "source": [
    "slHLocToronto = pd.read_csv('./data/Toronto_Culture_HotSpot.csv')"
   ]
  },
  {
   "cell_type": "code",
   "execution_count": null,
   "metadata": {
    "colab": {
     "base_uri": "https://localhost:8080/",
     "height": 390
    },
    "colab_type": "code",
    "id": "GxyiVa55zO_q",
    "outputId": "b09e4fc2-3938-486d-ed04-6f2fa8cbda10"
   },
   "outputs": [],
   "source": [
    "slHLocToronto.TYPE.value_counts().to_frame()"
   ]
  },
  {
   "cell_type": "markdown",
   "metadata": {
    "colab_type": "text",
    "id": "4l3LdmKbR-Sx"
   },
   "source": [
    "## Use geopy library to get the latitude and longitude values of Toronto, CA."
   ]
  },
  {
   "cell_type": "code",
   "execution_count": null,
   "metadata": {
    "colab": {
     "base_uri": "https://localhost:8080/",
     "height": 34
    },
    "colab_type": "code",
    "id": "2fvFtyqPR-rO",
    "outputId": "31280d2e-0337-4760-c43a-c5698d2d7d26"
   },
   "outputs": [],
   "source": [
    "address = 'Toronto, CA'\n",
    "\n",
    "geolocator = Nominatim(user_agent=\"Jupyter\")\n",
    "location = geolocator.geocode(address)\n",
    "latitude = location.latitude\n",
    "longitude = location.longitude\n",
    "print('The geograpical coordinate of Toronto, CA are {}, {}.'.format(latitude, longitude))"
   ]
  },
  {
   "cell_type": "markdown",
   "metadata": {
    "colab_type": "text",
    "id": "WJJhz4VFVkQz"
   },
   "source": [
    "## Create a map of Toronto with Restaurants and Culture Hot Spot."
   ]
  },
  {
   "cell_type": "code",
   "execution_count": null,
   "metadata": {},
   "outputs": [],
   "source": [
    "slHLocToronto = slHLocToronto.sample(frac=1).head(500)"
   ]
  },
  {
   "cell_type": "code",
   "execution_count": null,
   "metadata": {},
   "outputs": [],
   "source": [
    "slDinaToronto = slDinaToronto.sample(frac=1).head(500)"
   ]
  },
  {
   "cell_type": "code",
   "execution_count": null,
   "metadata": {},
   "outputs": [],
   "source": [
    "dfToronto = pd.concat([slDinaToronto, slHLocToronto])"
   ]
  },
  {
   "cell_type": "code",
   "execution_count": null,
   "metadata": {},
   "outputs": [],
   "source": [
    "dfTorontoType = dfToronto[['TYPE','colorGrp']].groupby(['TYPE']).first()"
   ]
  },
  {
   "cell_type": "markdown",
   "metadata": {},
   "source": [
    "### Visualize establishment in Torronto"
   ]
  },
  {
   "cell_type": "code",
   "execution_count": null,
   "metadata": {
    "colab": {
     "base_uri": "https://localhost:8080/",
     "height": 887
    },
    "colab_type": "code",
    "id": "5J6NcmhRVddX",
    "outputId": "ca2479c2-bc77-4cc0-fbce-be06d5732a2b"
   },
   "outputs": [],
   "source": [
    "str = ''\n",
    "\n",
    "# create map of Toronto, CA using latitude and longitude values\n",
    "map_markets = folium.Map(location=[latitude, longitude], zoom_start=12)\n",
    "\n",
    "\n",
    "# add markers to map\n",
    "for lat, lng, name, types, colo in zip(slHLocToronto['LATITUDE'], slHLocToronto['LONGITUDE'], slHLocToronto['NAME'], slHLocToronto['TYPE'], slHLocToronto['colorGrp']):\n",
    "            label = '{}, {}, {};{}'.format(name, types, lat, lng)\n",
    "            colo = colo.replace('[','').replace(']','').split(',')\n",
    "            label = folium.Popup(label, parse_html=True)\n",
    "            folium.CircleMarker(\n",
    "                [lat, lng],\n",
    "                radius=3,\n",
    "                popup=label,\n",
    "                color=f'#{int(colo[0]):02x}{int(colo[1]):02x}{int(colo[2]):02x}',\n",
    "                fill=True,\n",
    "                fill_color=f'#{int(colo[0]):02x}{int(colo[1]):02x}{int(colo[2]):02x}',\n",
    "                fill_opacity=0.7,\n",
    "                parse_html = False).add_to(map_markets)  \n",
    "\n",
    "# add markers to map\n",
    "for lat, lng, name, types, colo in zip(slDinaToronto['LATITUDE'], slDinaToronto['LONGITUDE'], slDinaToronto['NAME'], slDinaToronto['TYPE'], slDinaToronto['colorGrp']):\n",
    "            label = '{}, {}, {};{}'.format(name, types, lat, lng)\n",
    "            label = folium.Popup(label, parse_html=True)\n",
    "            colo = colo.replace('[','').replace(']','').split(',')\n",
    "            folium.CircleMarker(\n",
    "                [lat, lng],\n",
    "                radius=3,\n",
    "                popup=label,\n",
    "                color=f'#{int(colo[0]):02x}{int(colo[1]):02x}{int(colo[2]):02x}',\n",
    "                fill=True,\n",
    "                fill_color=f'#{int(colo[0]):02x}{int(colo[1]):02x}{int(colo[2]):02x}',\n",
    "                fill_opacity=0.7,\n",
    "                parse_html = False).add_to(map_markets)  \n",
    "\n",
    "for types, colo in zip(dfTorontoType.index, dfTorontoType['colorGrp']):\n",
    "    colo = colo.replace('[','').replace(']','').split(',')\n",
    "    str += '<span style=\"color:{};\">&nbsp; - {}</span><br>'.format(f'#{int(colo[0]):02x}{int(colo[1]):02x}{int(colo[2]):02x}',types)  \n",
    " \n",
    "        \n",
    "legend_html = \"\"\"\n",
    "     <div style=\"position: fixed; top: 400px; left: 1350px; width: 60x; height: 110x; border:1px solid grey; border-radius: 5px; z-index:9999; \n",
    "     background-color:white; opacity: .7; border-radius:6px; font-size:13px; font-weight: bold;\">\n",
    "     &nbsp; <b>{title}<b/> <br>\n",
    "     {itm_txt}\n",
    "     </ul>\n",
    "     </div> \"\"\".format( title = \"Legend\", itm_txt= str)\n",
    "\n",
    "map_markets.get_root().html.add_child(folium.Element( legend_html ))    \n",
    "\n",
    "map_markets.save('./data/dinahotspot_map.html')\n",
    "            \n",
    "map_markets"
   ]
  },
  {
   "cell_type": "markdown",
   "metadata": {},
   "source": [
    "## Create a police boundery map of Toronto with Restaurants and Culture Hot Spot."
   ]
  },
  {
   "cell_type": "code",
   "execution_count": null,
   "metadata": {},
   "outputs": [],
   "source": [
    "dfToronto = pd.read_csv('./data/Toronto_dinasafe.csv')"
   ]
  },
  {
   "cell_type": "code",
   "execution_count": null,
   "metadata": {},
   "outputs": [],
   "source": [
    "x = dfToronto[['AREA_LONG_CODE','TYPE']].groupby(['AREA_LONG_CODE'])"
   ]
  },
  {
   "cell_type": "code",
   "execution_count": null,
   "metadata": {},
   "outputs": [],
   "source": [
    "z = x.count().reset_index()"
   ]
  },
  {
   "cell_type": "code",
   "execution_count": null,
   "metadata": {},
   "outputs": [],
   "source": [
    "# create a map\n",
    "m = folium.Map(location=[43.653963, -79.387207], zoom_start=11)\n",
    "\n",
    "\n",
    "## add chloropleth layer\n",
    "folium.Choropleth(\n",
    "    geo_data='./data/Police Boundaries Data.geojson',\n",
    "    name='Number of Estabiliment',\n",
    "    data=z,\n",
    "    columns=['AREA_LONG_CODE','TYPE'],\n",
    "    key_on='feature.properties.AREA_LONG_CODE',\n",
    "    fill_color='YlOrBr',\n",
    "    fill_opacity=0.4,\n",
    "    line_opacity=1.0,\n",
    "    legend_name='Number of Estabiliment'\n",
    ").add_to(m) \n",
    "\n",
    "# enable layers to be turned in or out\n",
    "folium.LayerControl().add_to(m)\n",
    "\n",
    "m.save('./data/crimedivision_map.html')\n",
    "\n",
    "m"
   ]
  },
  {
   "cell_type": "markdown",
   "metadata": {},
   "source": [
    "## The most used Type in Toronto"
   ]
  },
  {
   "cell_type": "code",
   "execution_count": null,
   "metadata": {
    "colab": {},
    "colab_type": "code",
    "id": "kJyLeOPiachE"
   },
   "outputs": [],
   "source": [
    "stopwords = set(STOPWORDS)"
   ]
  },
  {
   "cell_type": "code",
   "execution_count": null,
   "metadata": {
    "colab": {
     "base_uri": "https://localhost:8080/",
     "height": 119
    },
    "colab_type": "code",
    "id": "fdGrX2RWfiS9",
    "outputId": "d93f75ff-6730-48b9-dccf-5610a92b0dbf"
   },
   "outputs": [],
   "source": [
    "dfTorontoNAME = dfToronto.NAME.apply(lambda x: x.replace(' ',','))\n",
    "dfTorontoNAME.head()"
   ]
  },
  {
   "cell_type": "code",
   "execution_count": null,
   "metadata": {
    "colab": {
     "base_uri": "https://localhost:8080/",
     "height": 198
    },
    "colab_type": "code",
    "id": "nhSkcl-5d8fX",
    "outputId": "97f3d86d-7855-4fe2-843d-b23b42a928ea"
   },
   "outputs": [],
   "source": [
    "# Start with one review:\n",
    "text = \" \".join(review for review in dfTorontoNAME)\n",
    "\n",
    "# lower max_font_size, change the maximum number of word and lighten the background:\n",
    "wordcloud = WordCloud(stopwords=stopwords, max_font_size=60, max_words=200, background_color=\"white\").generate(text)\n",
    "plt.figure(figsize=(50, 20))\n",
    "plt.imshow(wordcloud, interpolation=\"bilinear\")\n",
    "plt.axis(\"off\")\n",
    "plt.show()"
   ]
  },
  {
   "cell_type": "markdown",
   "metadata": {},
   "source": [
    "# Visualising The Toronto Major Crime Indicators (MCI) Data\n",
    "\n",
    "For a better understanding of the Toronto MCI Crime Dataset I will visualise the data."
   ]
  },
  {
   "cell_type": "code",
   "execution_count": null,
   "metadata": {},
   "outputs": [],
   "source": [
    "# Import the MCI in the DataFrame\n",
    "dfMCI = pd.read_csv('./data/Toronto_MCI.csv', parse_dates=['reportedda'])"
   ]
  },
  {
   "cell_type": "code",
   "execution_count": null,
   "metadata": {},
   "outputs": [],
   "source": [
    "# Import the MCI in the DataFrame\n",
    "dfMCI10 = pd.read_csv('./data/Toronto_MCI_Top10.csv', parse_dates=['reportedda'])"
   ]
  },
  {
   "cell_type": "code",
   "execution_count": null,
   "metadata": {},
   "outputs": [],
   "source": [
    "dfMCI.head()"
   ]
  },
  {
   "cell_type": "markdown",
   "metadata": {},
   "source": [
    "### Create colours per crime/month/hour\n",
    "\n",
    "Colour for each crime/month/hour; used for bar an maps"
   ]
  },
  {
   "cell_type": "code",
   "execution_count": null,
   "metadata": {},
   "outputs": [],
   "source": [
    "clist = [(0, \"red\"), (0.125, \"red\"), (0.25, \"orange\"), (0.5, \"green\"), \n",
    "         (0.7, \"green\"), (0.75, \"blue\"), (1, \"blue\")]\n",
    "\n",
    "rvb = colors.LinearSegmentedColormap.from_list(\"\", clist)\n",
    "\n",
    "N = 24\n",
    "x = np.arange(N).astype(float)"
   ]
  },
  {
   "cell_type": "markdown",
   "metadata": {},
   "source": [
    "### Number of Crimes per month"
   ]
  },
  {
   "cell_type": "code",
   "execution_count": null,
   "metadata": {},
   "outputs": [],
   "source": [
    "months = ['January','February','March','April','May','June','July','August','September','October','November','December']\n",
    "\n",
    "# Group the Crimes per month and produce a bar chart\n",
    "fig = dfMCI.groupby([dfMCI['reportedda'].dt.month], sort=True).count().plot(y = 'offence', \n",
    "                                             kind='bar',\n",
    "                                             figsize=(20,8),\n",
    "                                             width=0.9,\n",
    "                                             color=rvb(x/N))\n",
    "ax = fig.axes # main axes\n",
    "ax.set_xticklabels(months)\n",
    "\n",
    "plt.xlabel('Month')\n",
    "plt.ylabel('Count of offence')\n",
    "plt.title('Count of Cases Per Month', loc='left', fontsize=18)"
   ]
  },
  {
   "cell_type": "markdown",
   "metadata": {},
   "source": [
    "### Number of crimes occuring in each hour"
   ]
  },
  {
   "cell_type": "code",
   "execution_count": null,
   "metadata": {},
   "outputs": [],
   "source": [
    "# Group the Crimes per month and produce a bar chart\n",
    "fig = dfMCI.groupby([dfMCI['reportedda'].dt.hour], sort=True).count().plot(y = 'offence', \n",
    "                                             kind='bar',\n",
    "                                             figsize=(20,8),\n",
    "                                             width=0.9,\n",
    "                                             color=rvb(x/N))\n",
    "plt.xlabel('Hour')\n",
    "plt.ylabel('Count of offence')\n",
    "plt.title('Count of Cases Per Hour', loc='left', fontsize=18)"
   ]
  },
  {
   "cell_type": "markdown",
   "metadata": {},
   "source": [
    "### Create a Map of the Top 10 Crimes"
   ]
  },
  {
   "cell_type": "code",
   "execution_count": null,
   "metadata": {},
   "outputs": [],
   "source": [
    "# Create a list of the most commonly crimes\n",
    "top_crimes = dfMCI10[['offence', 'Division']].groupby(\n",
    "    ['offence']).count().sort_values('Division', ascending=False)[:10].axes[0].tolist()"
   ]
  },
  {
   "cell_type": "code",
   "execution_count": null,
   "metadata": {},
   "outputs": [],
   "source": [
    "top_crimes"
   ]
  },
  {
   "cell_type": "markdown",
   "metadata": {},
   "source": [
    "### Create a legend for map"
   ]
  },
  {
   "cell_type": "code",
   "execution_count": null,
   "metadata": {},
   "outputs": [],
   "source": [
    "dfMCI10Offence = dfMCI10[['offence','colorGrp']].groupby(['offence']).first()"
   ]
  },
  {
   "cell_type": "code",
   "execution_count": null,
   "metadata": {},
   "outputs": [],
   "source": [
    "# Create a new data frame with just the top 10 crimes\n",
    "df_top_crimes = dfMCI10[dfMCI10['offence'].isin(top_crimes)].copy()"
   ]
  },
  {
   "cell_type": "code",
   "execution_count": null,
   "metadata": {},
   "outputs": [],
   "source": [
    "df_top_crimes.head()"
   ]
  },
  {
   "cell_type": "code",
   "execution_count": null,
   "metadata": {},
   "outputs": [],
   "source": [
    "str = ''\n",
    "\n",
    "# Define the world map centered around Toronto, CA with a higher zoom level\n",
    "crime_map = folium.Map(location=[latitude, longitude], zoom_start=12)\n",
    "\n",
    "# Instantiate a feature group for the incidents in the dataframe\n",
    "offence = folium.map.FeatureGroup()\n",
    "\n",
    "# loop through the August crimes and add each to the incidents feature group\n",
    "for lat, lng, prem, off, nbh, rep3, div, colo in zip(df_top_crimes.Lat, df_top_crimes.Long\n",
    "                         , df_top_crimes.premisetyp, df_top_crimes.offence, df_top_crimes.Neighbourh\n",
    "                         , df_top_crimes.reported_3, df_top_crimes.Division, df_top_crimes.colorGrp):\n",
    "    \n",
    "    label = '{}, {}, {}, {}, {}'.format(div, prem, off, rep3, nbh)\n",
    "    colo = colo.replace('[','').replace(']','').split(',')\n",
    "    \n",
    "    offence.add_child(\n",
    "        folium.CircleMarker(\n",
    "            [lat, lng],\n",
    "            radius=3,\n",
    "            popup=label,\n",
    "            color=f'#{int(colo[0]):02x}{int(colo[1]):02x}{int(colo[2]):02x}',\n",
    "            fill=True,\n",
    "            fill_color=f'#{int(colo[0]):02x}{int(colo[1]):02x}{int(colo[2]):02x}',\n",
    "            fill_opacity=0.6))  \n",
    "    \n",
    "# add incidents to map\n",
    "crime_map.add_child(offence)\n",
    "\n",
    "\n",
    "for offence, colo in zip(dfMCI10Offence.index, dfMCI10Offence['colorGrp']):\n",
    "    colo = colo.replace('[','').replace(']','').split(',')\n",
    "    str += '<span style=\"color:{};\">&nbsp; - {}</span><br>'.format(f'#{int(colo[0]):02x}{int(colo[1]):02x}{int(colo[2]):02x}',offence)  \n",
    " \n",
    "        \n",
    "legend_html = \"\"\"\n",
    "     <div style=\"position: fixed; top: 250px; left: 1550px; width: 60x; height: 110x; border:1px solid grey; border-radius: 5px; z-index:9999; \n",
    "     background-color:white; opacity: .7; border-radius:6px; font-size:8px;\">\n",
    "     &nbsp; <b>{title}<b/> <br>\n",
    "     {itm_txt}\n",
    "     </ul>\n",
    "     </div> \"\"\".format( title = \"Legend\", itm_txt= str)\n",
    "\n",
    "crime_map.get_root().html.add_child(folium.Element( legend_html ))    \n",
    "\n",
    "crime_map.save('./data/crimedina_map.html')\n",
    "\n",
    "# display world map\n",
    "crime_map"
   ]
  },
  {
   "cell_type": "markdown",
   "metadata": {},
   "source": [
    "In the above map has visualised the crimes data for month, October in Toronto, CA.\n",
    "\n",
    "In this view are visulised same data as a Cluster Map."
   ]
  },
  {
   "cell_type": "code",
   "execution_count": null,
   "metadata": {},
   "outputs": [],
   "source": [
    "mc = MarkerCluster()\n",
    "\n",
    "# Define the world map centered around Toronto\n",
    "crimedina_cluster = folium.Map(location=[latitude, longitude], zoom_start=12)\n",
    "\n",
    "#creating a Marker for each point in df_sample. Each point will get a popup with their zip\n",
    "for row in df_top_crimes.itertuples():\n",
    "    mc.add_child(folium.Marker(location=[row.Lat, row.Long], popup=row.offence))\n",
    "\n",
    "\n",
    "# add Cluster\n",
    "crimedina_cluster.add_child(mc)\n",
    "\n",
    "for row in slDinaToronto.itertuples():\n",
    "    mc.add_child(folium.Marker(location=[row.LATITUDE, row.LONGITUDE], popup=row.TYPE))\n",
    "\n",
    "# add Cluster\n",
    "crimedina_cluster.add_child(mc)\n",
    "\n",
    "crimedina_cluster.save('./data/crimedina_clustermap.html')\n",
    "\n",
    "crimedina_cluster"
   ]
  },
  {
   "cell_type": "code",
   "execution_count": null,
   "metadata": {},
   "outputs": [],
   "source": []
  }
 ],
 "metadata": {
  "colab": {
   "collapsed_sections": [],
   "name": "TorontoRestaurants.ipynb",
   "provenance": []
  },
  "kernelspec": {
   "display_name": "Python",
   "language": "python",
   "name": "conda-env-python-py"
  },
  "language_info": {
   "codemirror_mode": {
    "name": "ipython",
    "version": 3
   },
   "file_extension": ".py",
   "mimetype": "text/x-python",
   "name": "python",
   "nbconvert_exporter": "python",
   "pygments_lexer": "ipython3",
   "version": "3.6.7"
  }
 },
 "nbformat": 4,
 "nbformat_minor": 4
}
