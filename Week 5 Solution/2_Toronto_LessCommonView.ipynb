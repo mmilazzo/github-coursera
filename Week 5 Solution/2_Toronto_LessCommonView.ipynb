{
 "cells": [
  {
   "cell_type": "markdown",
   "metadata": {},
   "source": [
    "# Less Commom Visualisation\n",
    "\n",
    "In this section, the founder of a restaurant should be provided with the necessary help to define the ideal location.<br>\n",
    "It would be essential for the founder to see the crime, event and restaurant data presented in this way.\n",
    "\n",
    "\n",
    "\n"
   ]
  },
  {
   "cell_type": "code",
   "execution_count": null,
   "metadata": {},
   "outputs": [],
   "source": [
    "# Import base libs\n",
    "import pandas as pd\n",
    "import numpy as np\n",
    "import seaborn as sns\n",
    "\n",
    "!pip install geopy  # uncomment this line if you haven't completed the Foursquare API lab\n",
    "from geopy.geocoders import Nominatim # convert an address into latitude and longitude values\n",
    "\n",
    "from sklearn.neighbors import DistanceMetric\n",
    "\n",
    "# Use the inline backend to generate the plots within the browser\n",
    "import matplotlib as mpl\n",
    "import matplotlib.pyplot as plt\n",
    "%matplotlib inline \n",
    "\n",
    "# Use Folium to display the Maps for Visualisation\n",
    "import folium\n",
    "from folium import plugins\n",
    "from folium.plugins import MarkerCluster\n",
    "from folium.plugins import FastMarkerCluster\n",
    "from folium.plugins import HeatMap\n",
    "\n",
    "print('Libraries imported.')"
   ]
  },
  {
   "cell_type": "markdown",
   "metadata": {},
   "source": [
    "# 1) Load the calculated distance between crime, location, and hot spot"
   ]
  },
  {
   "cell_type": "code",
   "execution_count": null,
   "metadata": {},
   "outputs": [],
   "source": [
    "df_dist = pd.read_csv('./data/Toronto_Crime_LocHSpot_Dist.csv')"
   ]
  },
  {
   "cell_type": "code",
   "execution_count": null,
   "metadata": {},
   "outputs": [],
   "source": [
    "df_dist.head()"
   ]
  },
  {
   "cell_type": "markdown",
   "metadata": {},
   "source": [
    "## 1.1) Display each of the Dinas and Hot Spot\n",
    "\n",
    "This part will create a preview for the grounder to proposed a good location.\n",
    "\n",
    "For each Type in this list i will shown:\n",
    "1. All crimes within 1000 meters around the location\n",
    "1. All dinas associated in there location\n",
    "1. A folium Map that show the center on the location\n",
    "1. A crime heatmap "
   ]
  },
  {
   "cell_type": "markdown",
   "metadata": {},
   "source": [
    "### 1.1.1) All crimes within 1000 meters around the location"
   ]
  },
  {
   "cell_type": "code",
   "execution_count": null,
   "metadata": {},
   "outputs": [],
   "source": [
    "# Import the CSV of the Top 10 Restaurants DataFrame\n",
    "dfDinaToronto = pd.read_csv('./data/Toronto_dinasafe.csv')\n",
    "dfDinaToronto = dfDinaToronto.rename(columns={'AREA_LONG_CODE': 'Division'})\n",
    "\n",
    "# Import the CSV of the Torontos Hot Spot DataFrame\n",
    "dfHLocToronto = pd.read_csv('./data/Toronto_Culture_HotSpot.csv')\n",
    "dfHLocToronto = dfHLocToronto.rename(columns={'AREA_LONG_CODE': 'Division'})\n",
    "\n",
    "dfDinaLoc = pd.concat([dfDinaToronto, dfHLocToronto])\n",
    "\n",
    "# Import the MCI in the DataFrame\n",
    "dfMCI = pd.read_csv('./data/Toronto_MCI_Top10.csv', parse_dates=['reportedda'])\n",
    "dfMCI = dfMCI.rename(columns={'Lat': 'LATITUDE', 'Long': 'LONGITUDE'})"
   ]
  },
  {
   "cell_type": "code",
   "execution_count": null,
   "metadata": {},
   "outputs": [],
   "source": [
    "dfDinaLoc.shape, dfDinaToronto.shape, dfHLocToronto.shape, dfMCI.shape, df_dist.shape"
   ]
  },
  {
   "cell_type": "code",
   "execution_count": null,
   "metadata": {},
   "outputs": [],
   "source": [
    "df_dist = df_dist.loc[:,top_venue['NAME'].to_list()].dropna(axis =1)\n",
    "df_dist.head()"
   ]
  },
  {
   "cell_type": "code",
   "execution_count": null,
   "metadata": {},
   "outputs": [],
   "source": [
    "df_dist.iloc[:,1].head()"
   ]
  },
  {
   "cell_type": "code",
   "execution_count": null,
   "metadata": {},
   "outputs": [],
   "source": [
    "dfMCI_venue.head()"
   ]
  },
  {
   "cell_type": "code",
   "execution_count": null,
   "metadata": {},
   "outputs": [],
   "source": [
    "# Create a List of Location for this iteration\n",
    "top_venue = pd.DataFrame(dfDinaLoc[['ID','TYPE','NAME','LATITUDE', 'LONGITUDE']].groupby('TYPE').head())\n",
    "\n",
    "# Create a a new crime dataframe from Dinas\n",
    "dfMCI_venue = dfMCI.copy()\n",
    "dfMCI_venue = dfMCI_venue[df_dist[top_venue['NAME']].iloc[:,0] <= 0.5]"
   ]
  },
  {
   "cell_type": "code",
   "execution_count": null,
   "metadata": {},
   "outputs": [],
   "source": []
  },
  {
   "cell_type": "code",
   "execution_count": null,
   "metadata": {},
   "outputs": [],
   "source": [
    "# Create a dataframe of the restaurants associated with the venue\n",
    "dfDinaToronto_venue = dfDinaToronto[dfDinaToronto['ID'].isin(top_venue['ID'].to_list())].copy()\n",
    "\n",
    "# Sort the restaurants so we can pick the top 10\n",
    "dfDinaToronto_venue.sort_values('NAME', ascending=False, inplace=True)"
   ]
  },
  {
   "cell_type": "code",
   "execution_count": null,
   "metadata": {},
   "outputs": [],
   "source": [
    "top_venue.shape"
   ]
  },
  {
   "cell_type": "code",
   "execution_count": null,
   "metadata": {},
   "outputs": [],
   "source": [
    "dfMCI_venue.groupby('Division').count()"
   ]
  },
  {
   "cell_type": "code",
   "execution_count": null,
   "metadata": {},
   "outputs": [],
   "source": [
    "address = 'Toronto, CA'\n",
    "\n",
    "geolocator = Nominatim(user_agent=\"Jupyter\")\n",
    "location = geolocator.geocode(address)\n",
    "latitude = location.latitude\n",
    "longitude = location.longitude\n",
    "print('The geograpical coordinate of Toronto, CA are {}, {}.'.format(latitude, longitude))\n"
   ]
  },
  {
   "cell_type": "code",
   "execution_count": null,
   "metadata": {},
   "outputs": [],
   "source": [
    "# Create the Folium Map\n",
    "heatmap = folium.Map(location=[latitude, longitude], zoom_start=12) \n",
    "\n",
    "# List comprehension to make out list of lists of Crime Loatitude and Longitude\n",
    "heat_dataDina = [[row['LATITUDE'], \n",
    "              row['LONGITUDE']] for index, row in dfDinaToronto.iterrows()]\n",
    "\n",
    "# Plot the dinas on the map\n",
    "HeatMap(heat_dataDina,\n",
    "        min_opacity=0.5,\n",
    "        max_zoom=18, \n",
    "        max_val=1.0, \n",
    "        radius=20,\n",
    "        blur=30,\n",
    "        gradient=None,\n",
    "        overlay=True).add_to(heatmap)\n",
    "\n",
    "heatmap.save('./data/heatDina_map.html')\n",
    "\n",
    "# Display the map\n",
    "heatmap"
   ]
  },
  {
   "cell_type": "code",
   "execution_count": null,
   "metadata": {},
   "outputs": [],
   "source": [
    "# Create the Folium Map\n",
    "heatmap = folium.Map(location=[latitude, longitude], zoom_start=12) \n",
    "\n",
    "# List comprehension to make out list of lists of Crime Loatitude and Longitude\n",
    "heat_dataCrime = [[row['LATITUDE'], \n",
    "              row['LONGITUDE']] for index, row in dfMCI.iterrows()]\n",
    "\n",
    "# Plot the crimes on the map\n",
    "HeatMap(heat_dataCrime,\n",
    "        min_opacity=0.5,\n",
    "        max_zoom=18, \n",
    "        max_val=1.0, \n",
    "        radius=20,\n",
    "        blur=30,\n",
    "        gradient=None,\n",
    "        overlay=True).add_to(heatmap)\n",
    "\n",
    "heatmap.save('./data/heatCrime_map.html')\n",
    "\n",
    "# Display the map\n",
    "heatmap"
   ]
  },
  {
   "cell_type": "code",
   "execution_count": null,
   "metadata": {},
   "outputs": [],
   "source": [
    "# Create the Folium Map\n",
    "heatmap = folium.Map(location=[latitude, longitude], zoom_start=12) \n",
    "\n",
    "df = pd.DataFrame()\n",
    "df = pd.concat([dfDinaToronto[['LATITUDE', 'LONGITUDE']],dfMCI[['LATITUDE', 'LONGITUDE']]])\n",
    "\n",
    "# List comprehension to make out list of lists of Crime Loatitude and Longitude\n",
    "heat_data = [[row['LATITUDE'], \n",
    "              row['LONGITUDE']] for index, row in df.iterrows()]\n",
    "\n",
    "# Plot the crimes on the map\n",
    "HeatMap(heat_data,\n",
    "        min_opacity=0.5,\n",
    "        max_zoom=18, \n",
    "        max_val=1.0, \n",
    "        radius=20,\n",
    "        blur=30,\n",
    "        gradient=None,\n",
    "        overlay=True).add_to(heatmap)\n",
    "\n",
    "heatmap.save('./data/heatDinaWithCrime_map.html')\n",
    "\n",
    "# Display the map\n",
    "heatmap"
   ]
  },
  {
   "cell_type": "code",
   "execution_count": null,
   "metadata": {},
   "outputs": [],
   "source": []
  }
 ],
 "metadata": {
  "kernelspec": {
   "display_name": "Python",
   "language": "python",
   "name": "conda-env-python-py"
  },
  "language_info": {
   "codemirror_mode": {
    "name": "ipython",
    "version": 3
   },
   "file_extension": ".py",
   "mimetype": "text/x-python",
   "name": "python",
   "nbconvert_exporter": "python",
   "pygments_lexer": "ipython3",
   "version": "3.6.7"
  }
 },
 "nbformat": 4,
 "nbformat_minor": 4
}
